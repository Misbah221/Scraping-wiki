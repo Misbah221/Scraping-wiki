{
  "nbformat": 4,
  "nbformat_minor": 0,
  "metadata": {
    "colab": {
      "provenance": []
    },
    "kernelspec": {
      "name": "python3",
      "display_name": "Python 3"
    },
    "language_info": {
      "name": "python"
    }
  },
  "cells": [
    {
      "cell_type": "code",
      "execution_count": 10,
      "metadata": {
        "id": "5FuAlecd41B-"
      },
      "outputs": [],
      "source": [
        "\n",
        "import requests\n",
        "import pandas as pd\n",
        "import seaborn as sns\n",
        "import matplotlib.pyplot as plt  # Perbaikan di sini\n",
        "from bs4 import BeautifulSoup  # Penggunaan alias opsional\n"
      ]
    },
    {
      "cell_type": "code",
      "source": [
        "import requests\n",
        "import pandas as pd\n",
        "from bs4 import BeautifulSoup\n",
        "\n",
        "# URL dari halaman Wikipedia yang memuat daftar negara di seluruh benua\n",
        "url = \"https://simple.wikipedia.org/wiki/List_of_countries_by_continents\"\n",
        "\n",
        "# Mengirim request ke halaman web\n",
        "response = requests.get(url)\n",
        "\n",
        "# Mengecek apakah request berhasil\n",
        "if response.status_code == 200:\n",
        "    # Parsing halaman dengan BeautifulSoup\n",
        "    soup = BeautifulSoup(response.text, 'html.parser')\n",
        "\n",
        "    # Mencari semua tabel yang berisi daftar negara (menggunakan class 'wikitable')\n",
        "    tables = soup.find_all('table', {'class': 'wikitable'})\n",
        "\n",
        "    # Menyimpan data negara, ibukota, populasi, luas wilayah, dan mata uang dari semua tabel\n",
        "    all_countries_data = []\n",
        "\n",
        "    # Loop untuk setiap tabel (ada tabel untuk setiap benua)\n",
        "    for table in tables:\n",
        "        # Mengambil semua baris dari tabel\n",
        "        for row in table.find_all('tr')[1:]:  # Melewatkan header tabel\n",
        "            columns = row.find_all('td')\n",
        "            if len(columns) > 1:\n",
        "                country = columns[1].get_text(strip=True)  # Nama negara\n",
        "                capital = columns[2].get_text(strip=True)  # Ibukota\n",
        "                population = columns[3].get_text(strip=True)  # Populasi\n",
        "                area = columns[4].get_text(strip=True)  # Luas wilayah\n",
        "                currency = columns[5].get_text(strip=True)  # Mata uang\n",
        "\n",
        "                # Tambahkan ke list\n",
        "                all_countries_data.append([country, capital, population, area, currency])\n",
        "\n",
        "    # Membuat DataFrame dari data yang diambil\n",
        "    df = pd.DataFrame(all_countries_data, columns=['Negara', 'Ibukota', 'Populasi', 'Luas Wilayah', 'Mata Uang'])\n",
        "\n",
        "    # Menampilkan DataFrame\n",
        "    print(df)\n",
        "else:\n",
        "    print(f\"Gagal mengambil data. Status code: {response.status_code}\")\n"
      ],
      "metadata": {
        "colab": {
          "base_uri": "https://localhost:8080/"
        },
        "id": "SnwNBtvP5gYJ",
        "outputId": "b22abd00-bcc6-4061-cf79-d2ce901beb46"
      },
      "execution_count": 11,
      "outputs": [
        {
          "output_type": "stream",
          "name": "stdout",
          "text": [
            "    Negara          Ibukota     Populasi Luas Wilayah  \\\n",
            "0                   Algeria      Algiers   44,177,969   \n",
            "1                    Angola       Luanda   34,503,774   \n",
            "2                     Benin   Porto-Novo   12,996,895   \n",
            "3                  Botswana     Gaborone    2,588,423   \n",
            "4              Burkina Faso  Ouagadougou   22,100,683   \n",
            "..     ...              ...          ...          ...   \n",
            "199                   Samoa         Apia      188,033   \n",
            "200         Solomon Islands      Honiara      566,323   \n",
            "201                   Tonga   Nuku'alofa      111,363   \n",
            "202                  Tuvalu     Funafuti      128,032   \n",
            "203                 Vanuatu    Port Vila      266,374   \n",
            "\n",
            "                        Mata Uang  \n",
            "0    2,381,740 km2(919,595 sq mi)  \n",
            "1    1,246,700 km2(481,354 sq mi)  \n",
            "2       112,622 km2(43,484 sq mi)  \n",
            "3      581,726 km2(224,606 sq mi)  \n",
            "4      274,000 km2(105,792 sq mi)  \n",
            "..                            ...  \n",
            "199                      2830 km²  \n",
            "200                     28900 km²  \n",
            "201                       747 km²  \n",
            "202                       702 km²  \n",
            "203                     12200 km²  \n",
            "\n",
            "[204 rows x 5 columns]\n"
          ]
        }
      ]
    },
    {
      "cell_type": "code",
      "source": [
        "# Simpan DataFrame ke file Excel\n",
        "file_name = 'data negara.xlsx'\n",
        "df.to_excel(file_name, index=False)\n"
      ],
      "metadata": {
        "id": "0IkpSQaTYCZU"
      },
      "execution_count": 12,
      "outputs": []
    },
    {
      "cell_type": "code",
      "source": [
        "from google.colab import files\n",
        "\n",
        "# Mendownload file Excel\n",
        "files.download(file_name)\n"
      ],
      "metadata": {
        "colab": {
          "base_uri": "https://localhost:8080/",
          "height": 17
        },
        "id": "LygTpF5bYLfn",
        "outputId": "27aa174c-d370-462f-f5f8-e6a631458ae5"
      },
      "execution_count": 13,
      "outputs": [
        {
          "output_type": "display_data",
          "data": {
            "text/plain": [
              "<IPython.core.display.Javascript object>"
            ],
            "application/javascript": [
              "\n",
              "    async function download(id, filename, size) {\n",
              "      if (!google.colab.kernel.accessAllowed) {\n",
              "        return;\n",
              "      }\n",
              "      const div = document.createElement('div');\n",
              "      const label = document.createElement('label');\n",
              "      label.textContent = `Downloading \"${filename}\": `;\n",
              "      div.appendChild(label);\n",
              "      const progress = document.createElement('progress');\n",
              "      progress.max = size;\n",
              "      div.appendChild(progress);\n",
              "      document.body.appendChild(div);\n",
              "\n",
              "      const buffers = [];\n",
              "      let downloaded = 0;\n",
              "\n",
              "      const channel = await google.colab.kernel.comms.open(id);\n",
              "      // Send a message to notify the kernel that we're ready.\n",
              "      channel.send({})\n",
              "\n",
              "      for await (const message of channel.messages) {\n",
              "        // Send a message to notify the kernel that we're ready.\n",
              "        channel.send({})\n",
              "        if (message.buffers) {\n",
              "          for (const buffer of message.buffers) {\n",
              "            buffers.push(buffer);\n",
              "            downloaded += buffer.byteLength;\n",
              "            progress.value = downloaded;\n",
              "          }\n",
              "        }\n",
              "      }\n",
              "      const blob = new Blob(buffers, {type: 'application/binary'});\n",
              "      const a = document.createElement('a');\n",
              "      a.href = window.URL.createObjectURL(blob);\n",
              "      a.download = filename;\n",
              "      div.appendChild(a);\n",
              "      a.click();\n",
              "      div.remove();\n",
              "    }\n",
              "  "
            ]
          },
          "metadata": {}
        },
        {
          "output_type": "display_data",
          "data": {
            "text/plain": [
              "<IPython.core.display.Javascript object>"
            ],
            "application/javascript": [
              "download(\"download_59e7c77a-8a26-4118-a591-7efca2d81b03\", \"data negara.xlsx\", 14830)"
            ]
          },
          "metadata": {}
        }
      ]
    }
  ]
}